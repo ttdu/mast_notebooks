{
 "cells": [
  {
   "cell_type": "markdown",
   "metadata": {},
   "source": [
    "<a id=\"top\"></a>\n",
    "# Beginner: Searching MAST using astroquery.mast\n",
    "\n",
    "## Introduction and Goals:\n",
    "This is a beginner tutorial on accessing the [MAST Archive](https://archive.stsci.edu) using the [Astroquery API](https://astroquery.readthedocs.io/en/latest/mast/mast.html). We'll cover the major search features you might find useful when querying for observations. By the end of this tutorial, you will:\n",
    "\n",
    "* Understand how to search for observations hosted on the MAST Archive\n",
    "* Download data products corresponding to your observations of interest\n",
    "* Create a visual display of the downloaded data"
   ]
  },
  {
   "cell_type": "markdown",
   "metadata": {},
   "source": [
    "## Table of Contents\n",
    "\n",
    "* [Imports](#Imports)\n",
    "* [Three ways to search for MAST observations](#Three-Ways-to-Search-for-MAST-Observations)\n",
    "    - [By Region](#1.-By-Region)\n",
    "    - [By Object Name](#2.-By-Object-Name)\n",
    "    - [By Criteria](#crit)\n",
    "* [Getting Associated Data Products](#Getting-Associated-Data-Products)\n",
    "    - [Performing a Product Query](#Performing-a-Product-Query)\n",
    "    - [Filtering Data Products](#Filtering-the-Data-Products)\n",
    "* [Downloading Products](#Downloading-Products)\n",
    "* [Displaying Data](#Displaying-Data)\n",
    "* [Further Reading](#Further-Reading)"
   ]
  },
  {
   "cell_type": "markdown",
   "metadata": {},
   "source": [
    "## Imports"
   ]
  },
  {
   "cell_type": "markdown",
   "metadata": {},
   "source": [
    "Let's start by importing the packages we need for this notebook.\n",
    "\n",
    "* `astroquery.mast` to access the MAST API\n",
    "* `astropy` to create [coordinate objects](https://docs.astropy.org/en/stable/coordinates/index.html) and read fits files\n",
    "* `matplotlib` to plot the data"
   ]
  },
  {
   "cell_type": "code",
   "execution_count": null,
   "metadata": {},
   "outputs": [],
   "source": [
    "from astropy.coordinates import SkyCoord\n",
    "from astropy.io import fits\n",
    "from astroquery.mast import Observations\n",
    "from matplotlib.colors import SymLogNorm\n",
    "\n",
    "import matplotlib.pyplot as plt\n",
    "\n",
    "%matplotlib inline"
   ]
  },
  {
   "cell_type": "markdown",
   "metadata": {},
   "source": [
    "## Three Methods to Search for MAST Observations\n",
    "\n",
    "All three searches outlined below use [`astroquery.mast`](https://astroquery.readthedocs.io/en/latest/mast/mast.html), an astronomer-friendly wrapper for [our pure Python API](https://mast.stsci.edu/api/v0/). Specifically, these searches use the [Observations](https://astroquery.readthedocs.io/en/latest/mast/mast_obsquery.html) class, which queries our entire multi-mission collection."
   ]
  },
  {
   "cell_type": "markdown",
   "metadata": {},
   "source": [
    "### 1. Query by Region\n",
    "To search by coordinates (and a radius), you can use `Observations.query_region`. The coordinates can be given as a string or `astropy.coordinates` object; the radius, as a string or float. If no radius is specified, the default is 0.2 degrees.\n",
    "\n",
    "Let's try an example search with the coordinates `[290.213503, -11.800746]` (arbitrarily chosen) and no radius."
   ]
  },
  {
   "cell_type": "code",
   "execution_count": null,
   "metadata": {},
   "outputs": [],
   "source": [
    "# This will give a warning that the coordinates are being interpreted as an ICRS coordinate provided in degrees\n",
    "obsByRegion = Observations.query_region(\"290.213503 -11.800746\")\n",
    "len(obsByRegion)"
   ]
  },
  {
   "cell_type": "markdown",
   "metadata": {},
   "source": [
    "Excellent! At the time of writing, this search returns 358 results. As the MAST archive grows, this number increases; you might see a larger value. Let's take a look a subset of the results."
   ]
  },
  {
   "cell_type": "code",
   "execution_count": null,
   "metadata": {},
   "outputs": [],
   "source": [
    "# Preview the first 3 results\n",
    "obsByRegion[:3]"
   ]
  },
  {
   "cell_type": "markdown",
   "metadata": {},
   "source": [
    "The columns of the above table (there are many!) correspond to [searchable fields in the MAST database](https://mast.stsci.edu/api/v0/_c_a_o_mfields.html). You can find an example of performing a search by criteria [down below](#crit).\n",
    "\n",
    "To avoid that pesky warning from the search above, we can create a `coordinates` object and pass it to our query. Let's try that now, and in addition, add a radius of 1 arcsecond to this search."
   ]
  },
  {
   "cell_type": "code",
   "execution_count": null,
   "metadata": {},
   "outputs": [],
   "source": [
    "# Set up our coordinates object\n",
    "coord = SkyCoord(290.213503, -11.800746, unit='deg')\n",
    "\n",
    "# Same search as above, now with a radius of 1 arcsecond\n",
    "obsByRegion2 = Observations.query_region(coord, radius='1s')\n",
    "len(obsByRegion2)"
   ]
  },
  {
   "cell_type": "markdown",
   "metadata": {},
   "source": [
    "**Consistency check**: we expect that as the radius gets smaller, we will get fewer results. In this case, only 11 results are returned compared to 358 above.\n",
    "\n",
    "Let's take a look at the results again, this time limiting the displayed columns."
   ]
  },
  {
   "cell_type": "code",
   "execution_count": null,
   "metadata": {},
   "outputs": [],
   "source": [
    "# Let's limit the number of columns we see at once\n",
    "columns = ['obs_collection', 'intentType', 'instrument_name', \n",
    "           'target_name', 't_exptime', 'filters', 'dataproduct_type']\n",
    "\n",
    "# Show the results with the above columns only\n",
    "obsByRegion2[columns]"
   ]
  },
  {
   "cell_type": "markdown",
   "metadata": {},
   "source": [
    "This \"streamlined\" view is helpful: it avoids visual clutter and helps you to focus on the fields that are most relevant to your search."
   ]
  },
  {
   "cell_type": "markdown",
   "metadata": {},
   "source": [
    "### 2. Query by Object Name\n",
    "\n",
    "To search for an object by name, you can use the `query.object()` function. As before, you may optionally specify a radius.\n",
    "\n",
    "The object name is first resolved to coordinates by a call to the [Simbad](https://simbad.unistra.fr/simbad/) and [NED](https://ned.ipac.caltech.edu/Documents/Overview) archives. Then, the search proceeeds based on these coordinates."
   ]
  },
  {
   "cell_type": "code",
   "execution_count": null,
   "metadata": {},
   "outputs": [],
   "source": [
    "obsByName = Observations.query_object(\"M51\", radius=\".005 deg\")\n",
    "\n",
    "# print total number of results; then show only the first five\n",
    "print(\"Number of results:\", len(obsByName))\n",
    "obsByName[columns][:5]"
   ]
  },
  {
   "cell_type": "markdown",
   "metadata": {},
   "source": [
    "For some special catalogs, like those used with Kepler, K2, and TESS, `astroquery` performs a direct lookup using the MAST catalog. It is important to include both the **_catalog identifier_** and number when searching one of these datasets; for example, to query the TESS Input catalog you would use `\"TIC 261136679\"`, rather than a plain `\"261136679\"`."
   ]
  },
  {
   "cell_type": "code",
   "execution_count": null,
   "metadata": {},
   "outputs": [],
   "source": [
    "obsByTessName = Observations.query_object(\"TIC 261136679\", radius=\"1s\")\n",
    "\n",
    "# we'll use some new columns to de-clutter the table\n",
    "columns = ['obs_collection', 'wavelength_region', 'provenance_name', 't_min', 't_max', 'obsid']\n",
    "\n",
    "# print number of results and display the first five\n",
    "print(\"Number of results:\", len(obsByTessName))\n",
    "obsByTessName[columns][:5]"
   ]
  },
  {
   "cell_type": "markdown",
   "metadata": {},
   "source": [
    "It's worth noting that even though we queried using the TESS Input Catalog, not all of the results are from the TESS mission.  In fact, we can see exactly which missions are returned using Python's built-in `set` function:"
   ]
  },
  {
   "cell_type": "code",
   "execution_count": null,
   "metadata": {},
   "outputs": [],
   "source": [
    "# return the unique set of missions found in this query\n",
    "set(obsByTessName['obs_collection'])"
   ]
  },
  {
   "cell_type": "markdown",
   "metadata": {},
   "source": [
    "The TIC is a catalog like any other, and the MAST Archive resolves the input name to a location on the sky. Other missions that have observed the same region will also return results.\n",
    "\n",
    "To search for results that are specific to TESS, or your mission of choice, see the 'by other criteria' section below."
   ]
  },
  {
   "cell_type": "markdown",
   "metadata": {},
   "source": [
    "### 3. Query by Other Criteria (with or without name/region) <a id=\"crit\"></a>\n",
    "\n",
    "To search for observations based on additonal parameters, you can use `query_criteria()`. In a sense, this is a more powerful version of the tools above, as you can still search by coordinates and objectname; however, you can inculde additional desired criteria. You may also run the search without specifying a name or coordinates.\n",
    "\n",
    "To perform the search, give your critera as keyword arguments. There are many [valid criteria for MAST searches](https://mast.stsci.edu/api/v0/_c_a_o_mfields.html) . (Note that these are columns of the results tables we saw above!) Some relevant examples are: \"filters\", \"t_exptime\" (exposure time), instrument_name, \"provenance_name\", and \"sequence_number\". \n",
    "\n",
    "Let's query for TESS Sector 9 data with an exposure time between 1400 and 1500s."
   ]
  },
  {
   "cell_type": "code",
   "execution_count": null,
   "metadata": {},
   "outputs": [],
   "source": [
    "obsByCriteria = Observations.query_criteria(obs_collection=[\"TESS\"], sequence_number=9,\n",
    "                                            t_exptime=[1400, 1500])\n",
    "\n",
    "columns = ['target_name', 's_ra', 's_dec', 't_exptime', 'obsid']\n",
    "obsByCriteria[columns][:5]"
   ]
  },
  {
   "cell_type": "markdown",
   "metadata": {},
   "source": [
    "There's no limit on the number of filters you can apply in a search. It may be an interesting exercise for the reader to go through the example below and figure out what exactly we're searching for.\n",
    "\n",
    "(Hint: check the [field descriptions](https://mast.stsci.edu/api/v0/_c_a_o_mfields.html))"
   ]
  },
  {
   "cell_type": "code",
   "execution_count": null,
   "metadata": {},
   "outputs": [],
   "source": [
    "# Make sure to run this cell, as the data is used in the sections that follow\n",
    "\n",
    "exByCriteria = Observations.query_criteria(obs_collection=[\"HLA\"], s_dec=[50, 60], \n",
    "                                           calib_level=[3], proposal_pi=\"Mould*\", \n",
    "                                           dataproduct_type=\"IMAGE\", t_max=[49800, 49820])\n",
    "\n",
    "columns = ['obs_collection', 'obs_id', 'target_name', 'filters', 'instrument_name', 'proposal_id']\n",
    "exByCriteria[columns]"
   ]
  },
  {
   "cell_type": "markdown",
   "metadata": {},
   "source": [
    "## Getting Associated Data Products"
   ]
  },
  {
   "cell_type": "markdown",
   "metadata": {},
   "source": [
    "Each observation returned from a MAST query can have one or more associated data products. For example, a JWST observation might return an [uncalibrated file](https://outerspace.stsci.edu/display/MASTDOCS/Supplemental+Products), [a guide-star file](https://jwst-docs.stsci.edu/jwst-observatory-characteristics-and-performance/jwst-pointing-performance/jwst-guide-stars), and the science data you're searching for."
   ]
  },
  {
   "cell_type": "markdown",
   "metadata": {},
   "source": [
    "### Performing a Product Query\n"
   ]
  },
  {
   "cell_type": "markdown",
   "metadata": {},
   "source": [
    "Using an astropy table of observations, or a list of observation ids (\"obs_ids\"), `get_product_list()` will return a table containing the associated data products.\n",
    "\n",
    "Since we already have a list of observations, we can use that as the starting point for our query. To keep it simple, let's look at only the last observation from our search above."
   ]
  },
  {
   "cell_type": "code",
   "execution_count": null,
   "metadata": {},
   "outputs": [],
   "source": [
    "# Let's select a small subset from our critera search above\n",
    "newObsList = exByCriteria[-1:]\n",
    "\n",
    "# Now we get the list of products associated with that observation\n",
    "dataProducts = Observations.get_product_list(newObsList)\n",
    "\n",
    "# preview the first five\n",
    "dataProducts[:5]"
   ]
  },
  {
   "cell_type": "markdown",
   "metadata": {},
   "source": [
    "### Filtering the Data Products\n",
    "\n",
    "After the data products have been retrieved, you can use `filter_products` to download only data products that meet your given criteria. There are many [filters for MAST products](https://mast.stsci.edu/api/v0/_productsfields.html). Some examples are: `mrp_only` (Minimum Recommended Products) and `extension` (file extension).\n",
    "\n",
    "A note on filtering: each listed filter is joined with an AND, but each option within that filter is joined with an OR. For example, the search below will return any products that are 'science' type **AND** have a calibration level of 2 **OR** 3."
   ]
  },
  {
   "cell_type": "code",
   "execution_count": null,
   "metadata": {},
   "outputs": [],
   "source": [
    "scienceProducts = Observations.filter_products(dataProducts, productType=[\"SCIENCE\"],\n",
    "                                               calib_level=[2, 3], mrp_only=False)\n",
    "scienceProducts[:5]"
   ]
  },
  {
   "cell_type": "markdown",
   "metadata": {},
   "source": [
    "## Downloading Products\n",
    "Passing a table of products (like the one above) to `download_products()` will download the entire table. You can also pass a list of Observation IDs (obs_id) if you know them. `download_products()` also allows you to filter data as you request the download. In the example below, we will only download the drizzled files (`drz.fits`).\n",
    "\n",
    "Products will, by default, be downloaded into the current working directory, in a subdirectory called `mastDownload.`The full local file paths will have the form `mastDownload/Mission/Observation ID/file`."
   ]
  },
  {
   "cell_type": "code",
   "execution_count": null,
   "metadata": {},
   "outputs": [],
   "source": [
    "# This is the filtered download of the scienceProducts table\n",
    "manifest = Observations.download_products(scienceProducts, extension=(\"drz.fits\"))\n",
    "\n",
    "# Uncomment below for \"plain\" download of the scienceProducts table\n",
    "# manifest = Observations.download_products(scienceProducts)"
   ]
  },
  {
   "cell_type": "markdown",
   "metadata": {},
   "source": [
    "Note: `download_products` includes caching by default. If you have downloaded the files before, they will not be downloaded again unless caching is turned off. This may cause issues if the data is updated and the filename remains the same!"
   ]
  },
  {
   "cell_type": "code",
   "execution_count": null,
   "metadata": {},
   "outputs": [],
   "source": [
    "manifest"
   ]
  },
  {
   "cell_type": "markdown",
   "metadata": {},
   "source": [
    "The manifest returns useful information about the status of the files. You can find the local path, along with a status. This will either be COMPLETE, SKIPPED, or ERROR. If the status is ERROR, there will be additional information in the 'Message' column. The URL field includes a link to directly download the data."
   ]
  },
  {
   "cell_type": "markdown",
   "metadata": {},
   "source": [
    "## Displaying Data"
   ]
  },
  {
   "cell_type": "markdown",
   "metadata": {},
   "source": [
    "At this point the data is ready for analysis, and we are done querying the MAST Archive.\n",
    "\n",
    "Below we take a look at the data files using `astropy.fits` and `matplotlib`."
   ]
  },
  {
   "cell_type": "code",
   "execution_count": null,
   "metadata": {},
   "outputs": [],
   "source": [
    "# Get the filenames from the manifest\n",
    "filename0 = manifest['Local Path'][0]\n",
    "filename1 = manifest['Local Path'][1]\n",
    "\n",
    "# Open the files using astropy.fits\n",
    "file1 = fits.open(filename0)\n",
    "file2 = fits.open(filename1)"
   ]
  },
  {
   "cell_type": "markdown",
   "metadata": {},
   "source": [
    "With the files opened, we can create a plot:"
   ]
  },
  {
   "cell_type": "code",
   "execution_count": null,
   "metadata": {},
   "outputs": [],
   "source": [
    "# initialize the plot\n",
    "f, (ax1, ax2) = plt.subplots(1, 2)\n",
    "\n",
    "# set height and width\n",
    "f.set_figheight(5)\n",
    "f.set_figwidth(12)\n",
    "\n",
    "# plot the data\n",
    "ax1.imshow(file1[0].data, cmap=\"inferno\", norm=SymLogNorm(linthresh=0.03, vmin=0, vmax=1.5))\n",
    "ax2.imshow(file2['SCI'].data, cmap=\"inferno\", norm=SymLogNorm(linthresh=0.03, vmin=-0.01, vmax=1.5))"
   ]
  },
  {
   "cell_type": "markdown",
   "metadata": {},
   "source": [
    "We've plotted the same region of the sky, with subtle differences caused by the differing filters."
   ]
  },
  {
   "cell_type": "markdown",
   "metadata": {},
   "source": [
    "## Further Reading\n",
    "[astoquery.mast readthedocs](https://astroquery.readthedocs.io/en/latest/mast/mast.html)"
   ]
  },
  {
   "cell_type": "markdown",
   "metadata": {},
   "source": [
    "## About this Notebook\n",
    "For additonal questions, comments, or feedback, please email `archive@stsci.edu`. \n",
    "\n",
    "**Authors:** Thomas Dutkiewicz, Scott Fleming <br>\n",
    "**Keywords:** MAST, astroquery <br>\n",
    "**Latest update** Mar 2025 <br>"
   ]
  },
  {
   "cell_type": "markdown",
   "metadata": {},
   "source": [
    "[Top of Page](#top)\n",
    "<img style=\"float: right;\" src=\"https://raw.githubusercontent.com/spacetelescope/notebooks/master/assets/stsci_pri_combo_mark_horizonal_white_bkgd.png\" alt=\"Space Telescope Logo\" width=\"200px\"/> "
   ]
  }
 ],
 "metadata": {
  "kernelspec": {
   "display_name": "Python 3 (ipykernel)",
   "language": "python",
   "name": "python3"
  },
  "language_info": {
   "codemirror_mode": {
    "name": "ipython",
    "version": 3
   },
   "file_extension": ".py",
   "mimetype": "text/x-python",
   "name": "python",
   "nbconvert_exporter": "python",
   "pygments_lexer": "ipython3",
   "version": "3.13.1"
  }
 },
 "nbformat": 4,
 "nbformat_minor": 4
}
